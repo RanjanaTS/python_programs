{
 "cells": [
  {
   "cell_type": "code",
   "execution_count": 15,
   "id": "20c4d5f7-95d8-4f47-bf98-00fc37bdc8a5",
   "metadata": {},
   "outputs": [],
   "source": [
    "import tkinter as tk\n",
    "from tkinter import ttk\n",
    "from tkinter import scrolledtext\n",
    "win=tk.Tk() # creating an instance\n",
    "win.title(\"My GUI Page\")\n",
    "win.geometry(\"500x500\")\n",
    "label_name=tk.Label(win, text=\"Enter your Name : \")\n",
    "label_name.pack(anchor=\"w\",pady=5)\n",
    "#entry widget (single line text box)\n",
    "entry_name=tk.Entry(win,width=30)\n",
    "entry_name.pack(anchor=\"w\",pady=5)\n",
    "#lable for text (multiline text box)\n",
    "tk.Label(win,  text=\"enter your address : \").pack(anchor=\"w\",pady=5)\n",
    "#text widget (multi line text box)\n",
    "text_address=tk.Text(win, width=30, height=5)\n",
    "text_address.pack(anchor=\"w\",pady=5)\n",
    "# combo box widget\n",
    "tk.Label(win ,text=\"Choose the country\").pack(anchor=\"w\",pady=5)\n",
    "country=ttk.Combobox(win, values=[\"USA\",\"India\",\"UK\",\"China\",\"Singapore\"],state=\"readonly\").pack(anchor=\"w\",pady=5)\n",
    "#country.current(0)\n",
    "#radio button\n",
    "tk.Label(win, text=\"Select your gender : \").pack(anchor=\"w\",pady=5)\n",
    "#variable to hold selected radio button value\n",
    "gender_var=tk.StringVar(value=\"Male\")\n",
    "tk.Radiobutton(win,text=\"Male\",variable=gender_var,value=\"Male\").pack(anchor=\"w\",pady=5)\n",
    "tk.Radiobutton(win,text=\"Female\",variable=gender_var,value=\"Female\").pack(anchor=\"w\",pady=5)\n",
    "tk.Radiobutton(win,text=\"Other\",variable=gender_var,value=\"Other\").pack(anchor=\"w\",pady=5)\n",
    "win.mainloop()"
   ]
  }
 ],
 "metadata": {
  "kernelspec": {
   "display_name": "Python 3 (ipykernel)",
   "language": "python",
   "name": "python3"
  },
  "language_info": {
   "codemirror_mode": {
    "name": "ipython",
    "version": 3
   },
   "file_extension": ".py",
   "mimetype": "text/x-python",
   "name": "python",
   "nbconvert_exporter": "python",
   "pygments_lexer": "ipython3",
   "version": "3.13.7"
  }
 },
 "nbformat": 4,
 "nbformat_minor": 5
}
